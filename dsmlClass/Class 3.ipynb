{
 "cells": [
  {
   "cell_type": "code",
   "execution_count": 14,
   "metadata": {},
   "outputs": [],
   "source": [
    "#Quadratic Regression Model"
   ]
  },
  {
   "cell_type": "code",
   "execution_count": 15,
   "metadata": {},
   "outputs": [
    {
     "name": "stdout",
     "output_type": "stream",
     "text": [
      "   X     Y\n",
      "0  1  1.00\n",
      "1  2  2.00\n",
      "2  3  1.30\n",
      "3  4  3.75\n",
      "4  5  2.25\n"
     ]
    }
   ],
   "source": [
    "import pandas as pd\n",
    "data={\n",
    "    'X':[1,2,3,4,5],\n",
    "    'Y':[1,2,1.3,3.75,2.25]    \n",
    "}\n",
    "df=pd.DataFrame(data)\n",
    "print(df)"
   ]
  },
  {
   "cell_type": "code",
   "execution_count": 16,
   "metadata": {},
   "outputs": [
    {
     "name": "stdout",
     "output_type": "stream",
     "text": [
      "Mean of X: 3.0\n",
      "Mean of Y: 2.06\n"
     ]
    }
   ],
   "source": [
    "meanX=df['X'].mean()\n",
    "meanY=df['Y'].mean()\n",
    "print(\"Mean of X:\",meanX)\n",
    "print(\"Mean of Y:\",meanY)"
   ]
  },
  {
   "cell_type": "code",
   "execution_count": 17,
   "metadata": {},
   "outputs": [
    {
     "name": "stdout",
     "output_type": "stream",
     "text": [
      "Variance:\n",
      " 2.5\n"
     ]
    }
   ],
   "source": [
    "varianceX=df['X'].var()\n",
    "print(\"Variance:\\n\",varianceX)"
   ]
  },
  {
   "cell_type": "code",
   "execution_count": 18,
   "metadata": {},
   "outputs": [
    {
     "name": "stdout",
     "output_type": "stream",
     "text": [
      "Covariance:\n",
      " 1.0625\n"
     ]
    }
   ],
   "source": [
    "covariance=df['X'].cov(df['Y'])\n",
    "print(\"Covariance:\\n\",covariance)"
   ]
  },
  {
   "cell_type": "code",
   "execution_count": 19,
   "metadata": {},
   "outputs": [],
   "source": [
    "slope=covariance/varianceX"
   ]
  },
  {
   "cell_type": "code",
   "execution_count": 20,
   "metadata": {},
   "outputs": [],
   "source": [
    "intercept=meanY-slope*meanX"
   ]
  },
  {
   "cell_type": "code",
   "execution_count": 21,
   "metadata": {},
   "outputs": [
    {
     "name": "stdout",
     "output_type": "stream",
     "text": [
      "The simple linear regression equation is:\n",
      "y=0.425 x + 0.785\n"
     ]
    }
   ],
   "source": [
    "print(\"The simple linear regression equation is:\")\n",
    "print(f\"y={slope} x + {intercept:.3f}\")"
   ]
  },
  {
   "cell_type": "code",
   "execution_count": 22,
   "metadata": {},
   "outputs": [
    {
     "name": "stdout",
     "output_type": "stream",
     "text": [
      "The prediction for the new unseen data is:  3.335\n"
     ]
    }
   ],
   "source": [
    "y_new=slope*6+intercept\n",
    "print(\"The prediction for the new unseen data is: \",y_new)"
   ]
  },
  {
   "cell_type": "code",
   "execution_count": 23,
   "metadata": {},
   "outputs": [
    {
     "name": "stdout",
     "output_type": "stream",
     "text": [
      "   X     Y  Predicted\n",
      "0  1  1.00      1.210\n",
      "1  2  2.00      1.635\n",
      "2  3  1.30      2.060\n",
      "3  4  3.75      2.485\n",
      "4  5  2.25      2.910\n"
     ]
    }
   ],
   "source": [
    "df['Predicted']=slope*df['X']+intercept\n",
    "print(df)"
   ]
  },
  {
   "cell_type": "code",
   "execution_count": 29,
   "metadata": {},
   "outputs": [
    {
     "data": {
      "image/png": "[encoded data removed]",
      "text/plain": [
       "<Figure size 640x480 with 1 Axes>"
      ]
     },
     "metadata": {},
     "output_type": "display_data"
    }
   ],
   "source": [
    "import matplotlib.pyplot as plt\n",
    "plt.scatter(df['X'],df['Y'],color=\"purple\")\n",
    "plt.plot(df['X'],df['Predicted'],color=\"red\")\n",
    "plt.show()"
   ]
  },
  {
   "cell_type": "code",
   "execution_count": null,
   "metadata": {},
   "outputs": [],
   "source": []
  }
 ],
 "metadata": {
  "kernelspec": {
   "display_name": "newone",
   "language": "python",
   "name": "python3"
  },
  "language_info": {
   "codemirror_mode": {
    "name": "ipython",
    "version": 3
   },
   "file_extension": ".py",
   "mimetype": "text/x-python",
   "name": "python",
   "nbconvert_exporter": "python",
   "pygments_lexer": "ipython3",
   "version": "3.8.20"
  }
 },
 "nbformat": 4,
 "nbformat_minor": 2
}
