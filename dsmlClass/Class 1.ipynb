{
 "cells": [
  {
   "cell_type": "code",
   "execution_count": 43,
   "id": "af05eaf8-f95d-4106-8f3c-5311fea4069f",
   "metadata": {},
   "outputs": [
    {
     "name": "stdout",
     "output_type": "stream",
     "text": [
      "   ID     Name  Age   Location Genderr\n",
      "0   1    Aryan   25  Kathmandu    Male\n",
      "1   2   Srijan   20  Kathmandu    Male\n",
      "2   3   Ashish   33    Pokhara  Female\n",
      "3   4    Ojash   34    Pokhara  Female\n",
      "4   5  Prabesh   31     Butwal    Male\n",
      "\n",
      "Unique elements in Location are:  ['Kathmandu' 'Pokhara' 'Butwal']\n"
     ]
    },
    {
     "data": {
      "text/html": [
       "<div>\n",
       "<style scoped>\n",
       "    .dataframe tbody tr th:only-of-type {\n",
       "        vertical-align: middle;\n",
       "    }\n",
       "\n",
       "    .dataframe tbody tr th {\n",
       "        vertical-align: top;\n",
       "    }\n",
       "\n",
       "    .dataframe thead th {\n",
       "        text-align: right;\n",
       "    }\n",
       "</style>\n",
       "<table border=\"1\" class=\"dataframe\">\n",
       "  <thead>\n",
       "    <tr style=\"text-align: right;\">\n",
       "      <th></th>\n",
       "      <th>ID</th>\n",
       "      <th>Age</th>\n",
       "    </tr>\n",
       "  </thead>\n",
       "  <tbody>\n",
       "    <tr>\n",
       "      <th>count</th>\n",
       "      <td>5.000000</td>\n",
       "      <td>5.00000</td>\n",
       "    </tr>\n",
       "    <tr>\n",
       "      <th>mean</th>\n",
       "      <td>3.000000</td>\n",
       "      <td>28.60000</td>\n",
       "    </tr>\n",
       "    <tr>\n",
       "      <th>std</th>\n",
       "      <td>1.581139</td>\n",
       "      <td>5.94138</td>\n",
       "    </tr>\n",
       "    <tr>\n",
       "      <th>min</th>\n",
       "      <td>1.000000</td>\n",
       "      <td>20.00000</td>\n",
       "    </tr>\n",
       "    <tr>\n",
       "      <th>25%</th>\n",
       "      <td>2.000000</td>\n",
       "      <td>25.00000</td>\n",
       "    </tr>\n",
       "    <tr>\n",
       "      <th>50%</th>\n",
       "      <td>3.000000</td>\n",
       "      <td>31.00000</td>\n",
       "    </tr>\n",
       "    <tr>\n",
       "      <th>75%</th>\n",
       "      <td>4.000000</td>\n",
       "      <td>33.00000</td>\n",
       "    </tr>\n",
       "    <tr>\n",
       "      <th>max</th>\n",
       "      <td>5.000000</td>\n",
       "      <td>34.00000</td>\n",
       "    </tr>\n",
       "  </tbody>\n",
       "</table>\n",
       "</div>"
      ],
      "text/plain": [
       "             ID       Age\n",
       "count  5.000000   5.00000\n",
       "mean   3.000000  28.60000\n",
       "std    1.581139   5.94138\n",
       "min    1.000000  20.00000\n",
       "25%    2.000000  25.00000\n",
       "50%    3.000000  31.00000\n",
       "75%    4.000000  33.00000\n",
       "max    5.000000  34.00000"
      ]
     },
     "execution_count": 43,
     "metadata": {},
     "output_type": "execute_result"
    }
   ],
   "source": [
    "import numpy as np\n",
    "import pandas as pd\n",
    "data={'ID':[1,2,3,4,5],\n",
    "      'Name':[\"Aryan\",\"Srijan\",\"Ashish\",\"Ojash\",\"Prabesh\"],\n",
    "      'Age':[25,20,33,34,31],\n",
    "      'Location':['Kathmandu','Kathmandu','Pokhara','Pokhara','Butwal'],\n",
    "      'Genderr':['Male','Male','Female','Female','Male']\n",
    "     }\n",
    "df=pd.DataFrame(data)\n",
    "print(df)\n",
    "unique=df['Location'].unique()\n",
    "print('\\nUnique elements in Location are: ',unique)\n",
    "df.describe()\n"
   ]
  },
  {
   "cell_type": "code",
   "execution_count": 44,
   "id": "c4e929e8",
   "metadata": {},
   "outputs": [
    {
     "name": "stdout",
     "output_type": "stream",
     "text": [
      "<class 'pandas.core.frame.DataFrame'>\n",
      "RangeIndex: 5 entries, 0 to 4\n",
      "Data columns (total 5 columns):\n",
      " #   Column    Non-Null Count  Dtype \n",
      "---  ------    --------------  ----- \n",
      " 0   ID        5 non-null      int64 \n",
      " 1   Name      5 non-null      object\n",
      " 2   Age       5 non-null      int64 \n",
      " 3   Location  5 non-null      object\n",
      " 4   Genderr   5 non-null      object\n",
      "dtypes: int64(2), object(3)\n",
      "memory usage: 328.0+ bytes\n"
     ]
    }
   ],
   "source": [
    "df.info()"
   ]
  },
  {
   "cell_type": "code",
   "execution_count": 45,
   "id": "87076c96-2219-4c56-8ffd-4d55acc395da",
   "metadata": {},
   "outputs": [
    {
     "name": "stdout",
     "output_type": "stream",
     "text": [
      "Requirement already satisfied: scikit-learn in c:\\users\\rasad regmi\\anaconda3\\envs\\newone\\lib\\site-packages (1.3.2)\n",
      "Requirement already satisfied: numpy<2.0,>=1.17.3 in c:\\users\\rasad regmi\\anaconda3\\envs\\newone\\lib\\site-packages (from scikit-learn) (1.24.4)\n",
      "Requirement already satisfied: scipy>=1.5.0 in c:\\users\\rasad regmi\\anaconda3\\envs\\newone\\lib\\site-packages (from scikit-learn) (1.10.1)\n",
      "Requirement already satisfied: joblib>=1.1.1 in c:\\users\\rasad regmi\\anaconda3\\envs\\newone\\lib\\site-packages (from scikit-learn) (1.4.2)\n",
      "Requirement already satisfied: threadpoolctl>=2.0.0 in c:\\users\\rasad regmi\\anaconda3\\envs\\newone\\lib\\site-packages (from scikit-learn) (3.5.0)\n"
     ]
    }
   ],
   "source": [
    "!pip install scikit-learn"
   ]
  },
  {
   "cell_type": "code",
   "execution_count": 46,
   "id": "50b510fa-7431-4f8b-b07e-4fedd1c5abe9",
   "metadata": {},
   "outputs": [
    {
     "name": "stdout",
     "output_type": "stream",
     "text": [
      "   ID     Name  Age   Location  Genderr\n",
      "0   1    Aryan   25  Kathmandu        1\n",
      "1   2   Srijan   20  Kathmandu        1\n",
      "2   3   Ashish   33    Pokhara        0\n",
      "3   4    Ojash   34    Pokhara        0\n",
      "4   5  Prabesh   31     Butwal        1\n"
     ]
    }
   ],
   "source": [
    "from sklearn.preprocessing import LabelEncoder\n",
    "le=LabelEncoder()\n",
    "df['Genderr']=le.fit_transform(df['Genderr']) #Does label encoding\n",
    "print(df)"
   ]
  },
  {
   "cell_type": "code",
   "execution_count": 47,
   "id": "7e9d6ec2-b29c-4fd3-b6c3-933a7ae3c7cb",
   "metadata": {},
   "outputs": [
    {
     "name": "stdout",
     "output_type": "stream",
     "text": [
      "   ID     Name  Age  Location  Genderr\n",
      "0   1    Aryan   25       101        1\n",
      "1   2   Srijan   20       101        1\n",
      "2   3   Ashish   33       103        0\n",
      "3   4    Ojash   34       103        0\n",
      "4   5  Prabesh   31       105        1\n"
     ]
    }
   ],
   "source": [
    "value={'Kathmandu':101,\n",
    "       'Pokhara':103,\n",
    "       'Butwal':105\n",
    "      }\n",
    "df['Location']=df['Location'].map(value)  \n",
    "print(df)\n",
    "       "
   ]
  },
  {
   "cell_type": "code",
   "execution_count": 48,
   "id": "906b04e9-e400-4510-bb60-06b481fec3f8",
   "metadata": {},
   "outputs": [
    {
     "name": "stdout",
     "output_type": "stream",
     "text": [
      "   ID     Name  Age Genderr  Location_Butwal  Location_Kathmandu  \\\n",
      "0   1    Aryan   25    Male            False                True   \n",
      "1   2   Srijan   20    Male            False                True   \n",
      "2   3   Ashish   33  Female            False               False   \n",
      "3   4    Ojash   34  Female            False               False   \n",
      "4   5  Prabesh   31    Male             True               False   \n",
      "\n",
      "   Location_Pokhara  \n",
      "0             False  \n",
      "1             False  \n",
      "2              True  \n",
      "3              True  \n",
      "4             False  \n"
     ]
    }
   ],
   "source": [
    "new=pd.DataFrame(data)\n",
    "new_transform=pd.get_dummies(new,columns=['Location']) #Does one-hot encoding\n",
    "print(new_transform)"
   ]
  },
  {
   "cell_type": "code",
   "execution_count": 49,
   "id": "036cd903-e74e-4852-8091-0674d7a3c32d",
   "metadata": {},
   "outputs": [],
   "source": [
    "import matplotlib.pyplot as plt\n",
    "import seaborn as sns"
   ]
  },
  {
   "cell_type": "code",
   "execution_count": 50,
   "id": "91a148ba-f6a7-4603-ba7b-d72835becaf5",
   "metadata": {},
   "outputs": [
    {
     "name": "stdout",
     "output_type": "stream",
     "text": [
      "Requirement already satisfied: seaborn in c:\\users\\rasad regmi\\anaconda3\\envs\\newone\\lib\\site-packages (0.13.2)\n",
      "Requirement already satisfied: numpy!=1.24.0,>=1.20 in c:\\users\\rasad regmi\\anaconda3\\envs\\newone\\lib\\site-packages (from seaborn) (1.24.4)\n",
      "Requirement already satisfied: pandas>=1.2 in c:\\users\\rasad regmi\\anaconda3\\envs\\newone\\lib\\site-packages (from seaborn) (2.0.3)\n",
      "Requirement already satisfied: matplotlib!=3.6.1,>=3.4 in c:\\users\\rasad regmi\\anaconda3\\envs\\newone\\lib\\site-packages (from seaborn) (3.7.5)\n",
      "Requirement already satisfied: contourpy>=1.0.1 in c:\\users\\rasad regmi\\anaconda3\\envs\\newone\\lib\\site-packages (from matplotlib!=3.6.1,>=3.4->seaborn) (1.1.1)\n",
      "Requirement already satisfied: cycler>=0.10 in c:\\users\\rasad regmi\\anaconda3\\envs\\newone\\lib\\site-packages (from matplotlib!=3.6.1,>=3.4->seaborn) (0.12.1)\n",
      "Requirement already satisfied: fonttools>=4.22.0 in c:\\users\\rasad regmi\\anaconda3\\envs\\newone\\lib\\site-packages (from matplotlib!=3.6.1,>=3.4->seaborn) (4.55.0)\n",
      "Requirement already satisfied: kiwisolver>=1.0.1 in c:\\users\\rasad regmi\\anaconda3\\envs\\newone\\lib\\site-packages (from matplotlib!=3.6.1,>=3.4->seaborn) (1.4.7)\n",
      "Requirement already satisfied: packaging>=20.0 in c:\\users\\rasad regmi\\anaconda3\\envs\\newone\\lib\\site-packages (from matplotlib!=3.6.1,>=3.4->seaborn) (24.2)\n",
      "Requirement already satisfied: pillow>=6.2.0 in c:\\users\\rasad regmi\\anaconda3\\envs\\newone\\lib\\site-packages (from matplotlib!=3.6.1,>=3.4->seaborn) (10.4.0)\n",
      "Requirement already satisfied: pyparsing>=2.3.1 in c:\\users\\rasad regmi\\anaconda3\\envs\\newone\\lib\\site-packages (from matplotlib!=3.6.1,>=3.4->seaborn) (3.1.4)\n",
      "Requirement already satisfied: python-dateutil>=2.7 in c:\\users\\rasad regmi\\anaconda3\\envs\\newone\\lib\\site-packages (from matplotlib!=3.6.1,>=3.4->seaborn) (2.9.0)\n",
      "Requirement already satisfied: importlib-resources>=3.2.0 in c:\\users\\rasad regmi\\anaconda3\\envs\\newone\\lib\\site-packages (from matplotlib!=3.6.1,>=3.4->seaborn) (6.4.5)\n",
      "Requirement already satisfied: pytz>=2020.1 in c:\\users\\rasad regmi\\anaconda3\\envs\\newone\\lib\\site-packages (from pandas>=1.2->seaborn) (2024.2)\n",
      "Requirement already satisfied: tzdata>=2022.1 in c:\\users\\rasad regmi\\anaconda3\\envs\\newone\\lib\\site-packages (from pandas>=1.2->seaborn) (2024.2)\n",
      "Requirement already satisfied: zipp>=3.1.0 in c:\\users\\rasad regmi\\anaconda3\\envs\\newone\\lib\\site-packages (from importlib-resources>=3.2.0->matplotlib!=3.6.1,>=3.4->seaborn) (3.20.2)\n",
      "Requirement already satisfied: six>=1.5 in c:\\users\\rasad regmi\\anaconda3\\envs\\newone\\lib\\site-packages (from python-dateutil>=2.7->matplotlib!=3.6.1,>=3.4->seaborn) (1.16.0)\n"
     ]
    }
   ],
   "source": [
    "!pip install seaborn"
   ]
  },
  {
   "cell_type": "code",
   "execution_count": 51,
   "id": "d1e5433e-4b2c-467f-a311-70c7346228ec",
   "metadata": {},
   "outputs": [],
   "source": [
    "import matplotlib.pyplot as plt\n",
    "import seaborn as sns\n",
    "import numpy as np\n",
    "import pandas as pd"
   ]
  },
  {
   "cell_type": "code",
   "execution_count": 52,
   "id": "02eee3b4-2759-4a3b-8842-06715db53df1",
   "metadata": {},
   "outputs": [
    {
     "name": "stdout",
     "output_type": "stream",
     "text": [
      "Original Data:\n",
      "   Value\n",
      "0     10\n",
      "1     12\n",
      "2     12\n",
      "3     13\n",
      "4     12\n",
      "5     14\n",
      "6     15\n",
      "7     16\n",
      "8    100\n",
      "9    200\n"
     ]
    }
   ],
   "source": [
    "data=np.array([10,12,12,13,12,14,15,16,100,200])\n",
    "df=pd.DataFrame(data,columns=['Value'])\n",
    "print(\"Original Data:\")\n",
    "print(df)"
   ]
  },
  {
   "cell_type": "code",
   "execution_count": 53,
   "id": "e6246cad-f7ef-480a-83ce-911d884e030b",
   "metadata": {},
   "outputs": [],
   "source": [
    "def detect_outliers_iqr(data):\n",
    "    Q1=data['Value'].quantile(0.25)\n",
    "    Q3=data['Value'].quantile(0.75)\n",
    "    IQR=Q3-Q1\n",
    "    lower_bound=Q1-1.5*IQR\n",
    "    upper_bound=Q3+1.5*IQR\n",
    "    return (data['Value']<lower_bound)|(data['Value']>upper_bound)"
   ]
  },
  {
   "cell_type": "code",
   "execution_count": 54,
   "id": "507dda2d-203a-49e9-afd7-3e263f4a607f",
   "metadata": {},
   "outputs": [
    {
     "name": "stdout",
     "output_type": "stream",
     "text": [
      "\n",
      "Detected Outliers:\n",
      "   Value\n",
      "8    100\n",
      "9    200\n"
     ]
    }
   ],
   "source": [
    "outliers=detect_outliers_iqr(df)\n",
    "print(\"\\nDetected Outliers:\")\n",
    "print(df[outliers])"
   ]
  },
  {
   "cell_type": "code",
   "execution_count": 58,
   "id": "9fb329c4-4d09-464f-9704-b258329625a4",
   "metadata": {},
   "outputs": [
    {
     "data": {
      "image/png": "[encoded data removed]",
      "text/plain": [
       "<Figure size 1500x600 with 1 Axes>"
      ]
     },
     "metadata": {},
     "output_type": "display_data"
    }
   ],
   "source": [
    "plt.figure(figsize=(15,6))\n",
    "plt.scatter(range(len(df)),df['Value'],c=['red' if x else 'blue' for x in outliers],label='Data Points')\n",
    "plt.axhline(y=df['Value'].mean(),color='green',linestyle='--',label='Mean')\n",
    "plt.title('Dataset with Outliers Highlighted (Scatter Plot)')\n",
    "plt.xlabel('index')\n",
    "plt.ylabel('Value')\n",
    "plt.legend()\n",
    "plt.show()"
   ]
  },
  {
   "cell_type": "code",
   "execution_count": 56,
   "id": "66ae1670-9e54-4294-ad0a-248b68f8c81f",
   "metadata": {},
   "outputs": [
    {
     "data": {
      "image/png": "[encoded data removed]",
      "text/plain": [
       "<Figure size 640x480 with 1 Axes>"
      ]
     },
     "metadata": {},
     "output_type": "display_data"
    }
   ],
   "source": [
    "sns.boxplot(x=df['Value'])\n",
    "plt.title('Dataset with Outliers(Box Plot)')\n",
    "plt.show()"
   ]
  },
  {
   "cell_type": "code",
   "execution_count": null,
   "id": "7b12ebff-9300-47da-83f2-afc8bb5ee5b6",
   "metadata": {},
   "outputs": [],
   "source": []
  }
 ],
 "metadata": {
  "kernelspec": {
   "display_name": "newone",
   "language": "python",
   "name": "python3"
  },
  "language_info": {
   "codemirror_mode": {
    "name": "ipython",
    "version": 3
   },
   "file_extension": ".py",
   "mimetype": "text/x-python",
   "name": "python",
   "nbconvert_exporter": "python",
   "pygments_lexer": "ipython3",
   "version": "3.8.20"
  }
 },
 "nbformat": 4,
 "nbformat_minor": 5
}
