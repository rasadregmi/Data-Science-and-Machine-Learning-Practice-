{
 "cells": [
  {
   "cell_type": "code",
   "execution_count": 43,
   "id": "af05eaf8-f95d-4106-8f3c-5311fea4069f",
   "metadata": {},
   "outputs": [
    {
     "ename": "",
     "evalue": "",
     "output_type": "error",
     "traceback": [
      "\u001b[1;31mThe kernel failed to start as the Python Environment 'MYENV (Python 3.12.7)' is no longer available. Consider selecting another kernel or refreshing the list of Python Environments."
     ]
    }
   ],
   "source": [
    "import numpy as np\n",
    "import pandas as pd\n",
    "data={'ID':[1,2,3,4,5],\n",
    "      'Name':[\"Aryan\",\"Srijan\",\"Ashish\",\"Ojash\",\"Prabesh\"],\n",
    "      'Age':[25,20,33,34,31],\n",
    "      'Location':['Kathmandu','Kathmandu','Pokhara','Pokhara','Butwal'],\n",
    "      'Genderr':['Male','Male','Female','Female','Male']\n",
    "     }\n",
    "df=pd.DataFrame(data)\n",
    "print(df)\n",
    "unique=df['Location'].unique()\n",
    "print('\\nUnique elements in Location are: ',unique)\n",
    "df.describe()\n"
   ]
  },
  {
   "cell_type": "code",
   "execution_count": null,
   "id": "c4e929e8",
   "metadata": {},
   "outputs": [],
   "source": [
    "df.info()"
   ]
  },
  {
   "cell_type": "code",
   "execution_count": null,
   "id": "87076c96-2219-4c56-8ffd-4d55acc395da",
   "metadata": {},
   "outputs": [],
   "source": [
    "!pip install scikit-learn"
   ]
  },
  {
   "cell_type": "code",
   "execution_count": null,
   "id": "50b510fa-7431-4f8b-b07e-4fedd1c5abe9",
   "metadata": {},
   "outputs": [],
   "source": [
    "from sklearn.preprocessing import LabelEncoder\n",
    "le=LabelEncoder()\n",
    "df['Genderr']=le.fit_transform(df['Genderr']) #Does label encoding\n",
    "print(df)"
   ]
  },
  {
   "cell_type": "code",
   "execution_count": null,
   "id": "7e9d6ec2-b29c-4fd3-b6c3-933a7ae3c7cb",
   "metadata": {},
   "outputs": [],
   "source": [
    "value={'Kathmandu':101,\n",
    "       'Pokhara':103,\n",
    "       'Butwal':105\n",
    "      }\n",
    "df['Location']=df['Location'].map(value)  \n",
    "print(df)\n",
    "       "
   ]
  },
  {
   "cell_type": "code",
   "execution_count": null,
   "id": "906b04e9-e400-4510-bb60-06b481fec3f8",
   "metadata": {},
   "outputs": [],
   "source": [
    "new=pd.DataFrame(data)\n",
    "new_transform=pd.get_dummies(new,columns=['Location']) #Does one-hot encoding\n",
    "print(new_transform)"
   ]
  },
  {
   "cell_type": "code",
   "execution_count": 49,
   "id": "036cd903-e74e-4852-8091-0674d7a3c32d",
   "metadata": {},
   "outputs": [],
   "source": [
    "import matplotlib.pyplot as plt\n",
    "import seaborn as sns"
   ]
  },
  {
   "cell_type": "code",
   "execution_count": null,
   "id": "91a148ba-f6a7-4603-ba7b-d72835becaf5",
   "metadata": {},
   "outputs": [],
   "source": [
    "!pip install seaborn"
   ]
  },
  {
   "cell_type": "code",
   "execution_count": 51,
   "id": "d1e5433e-4b2c-467f-a311-70c7346228ec",
   "metadata": {},
   "outputs": [],
   "source": [
    "import matplotlib.pyplot as plt\n",
    "import seaborn as sns\n",
    "import numpy as np\n",
    "import pandas as pd"
   ]
  },
  {
   "cell_type": "code",
   "execution_count": null,
   "id": "02eee3b4-2759-4a3b-8842-06715db53df1",
   "metadata": {},
   "outputs": [],
   "source": [
    "data=np.array([10,12,12,13,12,14,15,16,100,200])\n",
    "df=pd.DataFrame(data,columns=['Value'])\n",
    "print(\"Original Data:\")\n",
    "print(df)"
   ]
  },
  {
   "cell_type": "code",
   "execution_count": 53,
   "id": "e6246cad-f7ef-480a-83ce-911d884e030b",
   "metadata": {},
   "outputs": [],
   "source": [
    "def detect_outliers_iqr(data):\n",
    "    Q1=data['Value'].quantile(0.25)\n",
    "    Q3=data['Value'].quantile(0.75)\n",
    "    IQR=Q3-Q1\n",
    "    lower_bound=Q1-1.5*IQR\n",
    "    upper_bound=Q3+1.5*IQR\n",
    "    return (data['Value']<lower_bound)|(data['Value']>upper_bound)"
   ]
  },
  {
   "cell_type": "code",
   "execution_count": null,
   "id": "507dda2d-203a-49e9-afd7-3e263f4a607f",
   "metadata": {},
   "outputs": [],
   "source": [
    "outliers=detect_outliers_iqr(df)\n",
    "print(\"\\nDetected Outliers:\")\n",
    "print(df[outliers])"
   ]
  },
  {
   "cell_type": "code",
   "execution_count": null,
   "id": "9fb329c4-4d09-464f-9704-b258329625a4",
   "metadata": {},
   "outputs": [],
   "source": [
    "plt.figure(figsize=(15,6))\n",
    "plt.scatter(range(len(df)),df['Value'],c=['red' if x else 'blue' for x in outliers],label='Data Points')\n",
    "plt.axhline(y=df['Value'].mean(),color='green',linestyle='--',label='Mean')\n",
    "plt.title('Dataset with Outliers Highlighted (Scatter Plot)')\n",
    "plt.xlabel('index')\n",
    "plt.ylabel('Value')\n",
    "plt.legend()\n",
    "plt.show()"
   ]
  },
  {
   "cell_type": "code",
   "execution_count": null,
   "id": "66ae1670-9e54-4294-ad0a-248b68f8c81f",
   "metadata": {},
   "outputs": [],
   "source": [
    "sns.boxplot(x=df['Value'])\n",
    "plt.title('Dataset with Outliers(Box Plot)')\n",
    "plt.show()"
   ]
  },
  {
   "cell_type": "code",
   "execution_count": null,
   "id": "7b12ebff-9300-47da-83f2-afc8bb5ee5b6",
   "metadata": {},
   "outputs": [],
   "source": []
  }
 ],
 "metadata": {
  "kernelspec": {
   "display_name": "MYENV",
   "language": "python",
   "name": "python3"
  },
  "language_info": {
   "codemirror_mode": {
    "name": "ipython",
    "version": 3
   },
   "file_extension": ".py",
   "mimetype": "text/x-python",
   "name": "python",
   "nbconvert_exporter": "python",
   "pygments_lexer": "ipython3",
   "version": "3.12.7"
  }
 },
 "nbformat": 4,
 "nbformat_minor": 5
}
