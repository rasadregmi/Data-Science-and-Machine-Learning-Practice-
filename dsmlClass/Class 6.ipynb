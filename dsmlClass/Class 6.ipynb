{
 "cells": [
  {
   "cell_type": "code",
   "execution_count": 1,
   "metadata": {},
   "outputs": [],
   "source": [
    "#Best fit line for the regression model"
   ]
  },
  {
   "cell_type": "code",
   "execution_count": 2,
   "metadata": {},
   "outputs": [
    {
     "name": "stdout",
     "output_type": "stream",
     "text": [
      "Slope: 0.000, Intercept: 0.000, Cost: 21.750\n",
      "Slope: 0.255, Intercept: 0.085, Cost: 15.128\n",
      "Slope: 0.468, Intercept: 0.156, Cost: 10.534\n",
      "Slope: 0.645, Intercept: 0.214, Cost: 7.345\n",
      "Slope: 0.792, Intercept: 0.263, Cost: 5.133\n",
      "Slope: 0.915, Intercept: 0.303, Cost: 3.598\n",
      "Slope: 1.018, Intercept: 0.336, Cost: 2.532\n",
      "Slope: 1.103, Intercept: 0.363, Cost: 1.793\n",
      "Slope: 1.175, Intercept: 0.386, Cost: 1.280\n",
      "Slope: 1.234, Intercept: 0.404, Cost: 0.924\n",
      "Slope: 1.284, Intercept: 0.420, Cost: 0.677\n",
      "Slope: 1.325, Intercept: 0.432, Cost: 0.505\n",
      "Slope: 1.360, Intercept: 0.442, Cost: 0.386\n",
      "Slope: 1.389, Intercept: 0.450, Cost: 0.303\n",
      "Slope: 1.413, Intercept: 0.457, Cost: 0.246\n",
      "Slope: 1.433, Intercept: 0.462, Cost: 0.206\n",
      "Slope: 1.450, Intercept: 0.466, Cost: 0.178\n",
      "Slope: 1.464, Intercept: 0.469, Cost: 0.159\n",
      "Slope: 1.476, Intercept: 0.472, Cost: 0.145\n",
      "Slope: 1.486, Intercept: 0.473, Cost: 0.136\n",
      "Slope: 1.495, Intercept: 0.475, Cost: 0.129\n",
      "Slope: 1.502, Intercept: 0.475, Cost: 0.125\n",
      "Slope: 1.508, Intercept: 0.476, Cost: 0.121\n",
      "Slope: 1.513, Intercept: 0.476, Cost: 0.119\n",
      "Slope: 1.517, Intercept: 0.476, Cost: 0.117\n",
      "Slope: 1.521, Intercept: 0.475, Cost: 0.116\n",
      "Slope: 1.524, Intercept: 0.475, Cost: 0.115\n",
      "Slope: 1.526, Intercept: 0.474, Cost: 0.114\n",
      "Slope: 1.529, Intercept: 0.473, Cost: 0.114\n",
      "Slope: 1.531, Intercept: 0.473, Cost: 0.113\n",
      "Slope: 1.533, Intercept: 0.472, Cost: 0.113\n",
      "Slope: 1.534, Intercept: 0.470, Cost: 0.113\n",
      "Slope: 1.535, Intercept: 0.469, Cost: 0.112\n",
      "Slope: 1.537, Intercept: 0.468, Cost: 0.112\n",
      "Slope: 1.538, Intercept: 0.467, Cost: 0.112\n",
      "Slope: 1.539, Intercept: 0.466, Cost: 0.111\n",
      "Slope: 1.540, Intercept: 0.465, Cost: 0.111\n",
      "Slope: 1.540, Intercept: 0.463, Cost: 0.111\n",
      "Slope: 1.541, Intercept: 0.462, Cost: 0.111\n",
      "Slope: 1.542, Intercept: 0.461, Cost: 0.111\n",
      "Slope: 1.543, Intercept: 0.459, Cost: 0.110\n",
      "Slope: 1.543, Intercept: 0.458, Cost: 0.110\n",
      "Slope: 1.544, Intercept: 0.457, Cost: 0.110\n",
      "Slope: 1.544, Intercept: 0.455, Cost: 0.110\n",
      "Slope: 1.545, Intercept: 0.454, Cost: 0.109\n",
      "Slope: 1.546, Intercept: 0.453, Cost: 0.109\n",
      "Slope: 1.546, Intercept: 0.451, Cost: 0.109\n",
      "Slope: 1.547, Intercept: 0.450, Cost: 0.109\n",
      "Slope: 1.547, Intercept: 0.449, Cost: 0.109\n",
      "Slope: 1.548, Intercept: 0.447, Cost: 0.108\n",
      "Slope: 1.548, Intercept: 0.446, Cost: 0.108\n",
      "Slope: 1.549, Intercept: 0.445, Cost: 0.108\n",
      "Slope: 1.549, Intercept: 0.443, Cost: 0.108\n",
      "Slope: 1.550, Intercept: 0.442, Cost: 0.108\n",
      "Slope: 1.550, Intercept: 0.441, Cost: 0.107\n",
      "Slope: 1.550, Intercept: 0.439, Cost: 0.107\n",
      "Slope: 1.551, Intercept: 0.438, Cost: 0.107\n",
      "Slope: 1.551, Intercept: 0.437, Cost: 0.107\n",
      "Slope: 1.552, Intercept: 0.436, Cost: 0.107\n",
      "Slope: 1.552, Intercept: 0.434, Cost: 0.106\n",
      "Slope: 1.553, Intercept: 0.433, Cost: 0.106\n",
      "Slope: 1.553, Intercept: 0.432, Cost: 0.106\n",
      "Slope: 1.554, Intercept: 0.430, Cost: 0.106\n",
      "Slope: 1.554, Intercept: 0.429, Cost: 0.106\n",
      "Slope: 1.554, Intercept: 0.428, Cost: 0.106\n",
      "Slope: 1.555, Intercept: 0.426, Cost: 0.105\n",
      "Slope: 1.555, Intercept: 0.425, Cost: 0.105\n",
      "Slope: 1.556, Intercept: 0.424, Cost: 0.105\n",
      "Slope: 1.556, Intercept: 0.423, Cost: 0.105\n",
      "Slope: 1.557, Intercept: 0.421, Cost: 0.105\n",
      "Slope: 1.557, Intercept: 0.420, Cost: 0.104\n",
      "Slope: 1.558, Intercept: 0.419, Cost: 0.104\n",
      "Slope: 1.558, Intercept: 0.418, Cost: 0.104\n",
      "Slope: 1.558, Intercept: 0.416, Cost: 0.104\n",
      "Slope: 1.559, Intercept: 0.415, Cost: 0.104\n",
      "Slope: 1.559, Intercept: 0.414, Cost: 0.104\n",
      "Slope: 1.560, Intercept: 0.413, Cost: 0.103\n",
      "Slope: 1.560, Intercept: 0.411, Cost: 0.103\n",
      "Slope: 1.560, Intercept: 0.410, Cost: 0.103\n",
      "Slope: 1.561, Intercept: 0.409, Cost: 0.103\n",
      "Slope: 1.561, Intercept: 0.408, Cost: 0.103\n",
      "Slope: 1.562, Intercept: 0.407, Cost: 0.103\n",
      "Slope: 1.562, Intercept: 0.405, Cost: 0.102\n",
      "Slope: 1.563, Intercept: 0.404, Cost: 0.102\n",
      "Slope: 1.563, Intercept: 0.403, Cost: 0.102\n",
      "Slope: 1.563, Intercept: 0.402, Cost: 0.102\n",
      "Slope: 1.564, Intercept: 0.400, Cost: 0.102\n",
      "Slope: 1.564, Intercept: 0.399, Cost: 0.102\n",
      "Slope: 1.565, Intercept: 0.398, Cost: 0.101\n",
      "Slope: 1.565, Intercept: 0.397, Cost: 0.101\n",
      "Slope: 1.565, Intercept: 0.396, Cost: 0.101\n",
      "Slope: 1.566, Intercept: 0.394, Cost: 0.101\n",
      "Slope: 1.566, Intercept: 0.393, Cost: 0.101\n",
      "Slope: 1.567, Intercept: 0.392, Cost: 0.101\n",
      "Slope: 1.567, Intercept: 0.391, Cost: 0.101\n",
      "Slope: 1.567, Intercept: 0.390, Cost: 0.100\n",
      "Slope: 1.568, Intercept: 0.389, Cost: 0.100\n",
      "Slope: 1.568, Intercept: 0.387, Cost: 0.100\n",
      "Slope: 1.569, Intercept: 0.386, Cost: 0.100\n",
      "Slope: 1.569, Intercept: 0.385, Cost: 0.100\n",
      "Final Slope: 1.569 and Final Intercept: 0.384\n"
     ]
    }
   ],
   "source": [
    "import numpy as np\n",
    "x=np.array([1,2,3,4])\n",
    "y=np.array([2,3,5,7])\n",
    "\n",
    "slope=0\n",
    "intercept=0\n",
    "learning_rate=0.01\n",
    "cost_value=[]\n",
    "for i in range(100):\n",
    "    y_pred=slope*x+intercept\n",
    "    error=y-y_pred\n",
    "    cost=np.mean(error**2)\n",
    "    print(f\"Slope: {slope:.3f}, Intercept: {intercept:.3f}, Cost: {cost:.3f}\")\n",
    "    cost_value.append(cost)\n",
    "    partial_slope=-2/len(x)*np.sum(error*x)\n",
    "    partial_intercept=-2/len(x)*np.sum(error)\n",
    "    slope-=learning_rate*partial_slope\n",
    "    intercept-=learning_rate*partial_intercept\n",
    "print(f\"Final Slope: {slope:.3f} and Final Intercept: {intercept:.3f}\")"
   ]
  },
  {
   "cell_type": "code",
   "execution_count": 3,
   "metadata": {},
   "outputs": [
    {
     "data": {
      "image/png": "[encoded data removed]",
      "text/plain": [
       "<Figure size 640x480 with 1 Axes>"
      ]
     },
     "metadata": {},
     "output_type": "display_data"
    }
   ],
   "source": [
    "import matplotlib.pyplot as plt\n",
    "plt.scatter(x,y,color='blue')\n",
    "plt.plot(x,y_pred,color='red')\n",
    "plt.show()"
   ]
  },
  {
   "cell_type": "code",
   "execution_count": null,
   "metadata": {},
   "outputs": [],
   "source": []
  }
 ],
 "metadata": {
  "kernelspec": {
   "display_name": "base",
   "language": "python",
   "name": "python3"
  },
  "language_info": {
   "codemirror_mode": {
    "name": "ipython",
    "version": 3
   },
   "file_extension": ".py",
   "mimetype": "text/x-python",
   "name": "python",
   "nbconvert_exporter": "python",
   "pygments_lexer": "ipython3",
   "version": "3.12.7"
  }
 },
 "nbformat": 4,
 "nbformat_minor": 2
}
