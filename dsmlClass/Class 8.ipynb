{
 "cells": [
  {
   "cell_type": "markdown",
   "metadata": {},
   "source": [
    "ANOVA Test"
   ]
  },
  {
   "cell_type": "code",
   "execution_count": 8,
   "metadata": {},
   "outputs": [],
   "source": [
    "import pandas as pd\n",
    "import numpy as np\n",
    "from scipy import stats\n",
    "import statsmodels.api as sm\n",
    "from statsmodels.formula.api import ols\n",
    "import matplotlib.pyplot as plt\n",
    "import seaborn as sns"
   ]
  },
  {
   "cell_type": "code",
   "execution_count": 9,
   "metadata": {},
   "outputs": [],
   "source": [
    "data={\n",
    "    'Age':[25,32,41,28,35,45,30,38,43],\n",
    "    'Income':[50000,65000,75000,55000,70000,80000,60000,72000,78000],\n",
    "    'Education':['Bachelor','Master','PhD','Bachelor','Master','PhD','Bachelor','Master','PhD']\n",
    "}\n",
    "df=pd.DataFrame(data)"
   ]
  },
  {
   "cell_type": "code",
   "execution_count": 10,
   "metadata": {},
   "outputs": [
    {
     "name": "stdout",
     "output_type": "stream",
     "text": [
      "T-test results: t-statistics= -3.9336604086431146,p-value=0.01705041829957295\n",
      "\n",
      "One-way ANOVA results:\n",
      "                    sum_sq   df          F    PR(>F)\n",
      "C(Education)  7.848889e+08  2.0  26.556391  0.001046\n",
      "Residual      8.866667e+07  6.0        NaN       NaN\n"
     ]
    }
   ],
   "source": [
    "#1. T-test between Bachelor's and Master's\n",
    "bachelor_income=df[df['Education']=='Bachelor']['Income']\n",
    "master_income=df[df['Education']=='Master']['Income']\n",
    "\n",
    "t_stat,p_value_ttest=stats.ttest_ind(bachelor_income,master_income)\n",
    "print(f\"T-test results: t-statistics= {t_stat},p-value={p_value_ttest}\")\n",
    "\n",
    "#2. One-way ANOVA\n",
    "anova_result=ols('Income ~ C(Education)',data=df).fit()\n",
    "anova_table=sm.stats.anova_lm(anova_result,typ=2)\n",
    "print(\"\\nOne-way ANOVA results:\")\n",
    "print(anova_table)\n",
    "\n",
    "#Null Hypothesis: The mean income of Bachelor's, Master's and PhD are equal\n",
    "#Alternate Hypothesis: At least one mean income is different"
   ]
  },
  {
   "cell_type": "code",
   "execution_count": 11,
   "metadata": {},
   "outputs": [
    {
     "name": "stdout",
     "output_type": "stream",
     "text": [
      "\n",
      "Regression Analysis results:\n",
      "                            OLS Regression Results                            \n",
      "==============================================================================\n",
      "Dep. Variable:                 Income   R-squared:                       0.991\n",
      "Model:                            OLS   Adj. R-squared:                  0.986\n",
      "Method:                 Least Squares   F-statistic:                     190.8\n",
      "Date:                Thu, 19 Dec 2024   Prob (F-statistic):           1.42e-05\n",
      "Time:                        15:38:42   Log-Likelihood:                -74.158\n",
      "No. Observations:                   9   AIC:                             156.3\n",
      "Df Residuals:                       5   BIC:                             157.1\n",
      "Df Model:                           3                                         \n",
      "Covariance Type:            nonrobust                                         \n",
      "=======================================================================================\n",
      "                          coef    std err          t      P>|t|      [0.025      0.975]\n",
      "---------------------------------------------------------------------------------------\n",
      "Intercept            1.493e+04   5518.014      2.706      0.042     746.529    2.91e+04\n",
      "Education[T.Master]  3379.3103   1764.149      1.916      0.114   -1155.578    7914.199\n",
      "Education[T.PhD]      459.7701   3194.683      0.144      0.891   -7752.423    8671.964\n",
      "Age                  1448.2759    197.788      7.322      0.001     939.846    1956.706\n",
      "==============================================================================\n",
      "Omnibus:                        0.218   Durbin-Watson:                   3.139\n",
      "Prob(Omnibus):                  0.897   Jarque-Bera (JB):                0.380\n",
      "Skew:                           0.166   Prob(JB):                        0.827\n",
      "Kurtosis:                       2.050   Cond. No.                         563.\n",
      "==============================================================================\n",
      "\n",
      "Notes:\n",
      "[1] Standard Errors assume that the covariance matrix of the errors is correctly specified.\n"
     ]
    },
    {
     "name": "stderr",
     "output_type": "stream",
     "text": [
      "c:\\Users\\Rasad Regmi\\miniconda3\\envs\\dsml\\lib\\site-packages\\scipy\\stats\\_axis_nan_policy.py:418: UserWarning: `kurtosistest` p-value may be inaccurate with fewer than 20 observations; only n=9 observations were given.\n",
      "  return hypotest_fun_in(*args, **kwds)\n"
     ]
    }
   ],
   "source": [
    "#3. Regression  Analysis\n",
    "regression_model=ols('Income ~ Age + Education',data=df).fit()\n",
    "print(\"\\nRegression Analysis results:\")\n",
    "print(regression_model.summary())"
   ]
  },
  {
   "cell_type": "code",
   "execution_count": null,
   "metadata": {},
   "outputs": [],
   "source": []
  }
 ],
 "metadata": {
  "kernelspec": {
   "display_name": "dsml",
   "language": "python",
   "name": "python3"
  },
  "language_info": {
   "codemirror_mode": {
    "name": "ipython",
    "version": 3
   },
   "file_extension": ".py",
   "mimetype": "text/x-python",
   "name": "python",
   "nbconvert_exporter": "python",
   "pygments_lexer": "ipython3",
   "version": "3.10.16"
  }
 },
 "nbformat": 4,
 "nbformat_minor": 2
}
