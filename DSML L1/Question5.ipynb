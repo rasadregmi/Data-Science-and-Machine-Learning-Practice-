{
 "cells": [
  {
   "cell_type": "code",
   "execution_count": 1,
   "id": "65ad77ed-afd4-414e-8af6-938dcd9a5b05",
   "metadata": {},
   "outputs": [],
   "source": [
    "import numpy as np\n",
    "from scipy import stats\n",
    "\n",
    "data = np.array([10, 20, 30, 40, 50])"
   ]
  },
  {
   "cell_type": "code",
   "execution_count": 2,
   "id": "f9045467-aa66-4fe1-a32c-961d363d3386",
   "metadata": {},
   "outputs": [
    {
     "name": "stdout",
     "output_type": "stream",
     "text": [
      "The mean is  30.0\n"
     ]
    }
   ],
   "source": [
    "mean = np.mean(data)\n",
    "print(\"The mean is \", mean)"
   ]
  },
  {
   "cell_type": "code",
   "execution_count": 3,
   "id": "f63dd724-15e5-45ed-99a3-340f09fed59a",
   "metadata": {},
   "outputs": [
    {
     "name": "stdout",
     "output_type": "stream",
     "text": [
      "The median is  30.0\n"
     ]
    }
   ],
   "source": [
    "median = np.median(data)\n",
    "print(\"The median is \", median)"
   ]
  },
  {
   "cell_type": "code",
   "execution_count": 4,
   "id": "b9c0f83a-1463-4b6b-a39e-8b384d66756f",
   "metadata": {},
   "outputs": [
    {
     "name": "stdout",
     "output_type": "stream",
     "text": [
      "The mode is  ModeResult(mode=10, count=1)\n"
     ]
    }
   ],
   "source": [
    "mode = stats.mode(data)\n",
    "print(\"The mode is \", mode)"
   ]
  },
  {
   "cell_type": "code",
   "execution_count": 5,
   "id": "f80ffab1-b12f-4cba-8b84-2337193fe99a",
   "metadata": {},
   "outputs": [],
   "source": [
    "true_values = [12, 21, 29, 43, 54]"
   ]
  },
  {
   "cell_type": "code",
   "execution_count": 6,
   "id": "0fe3fa71-6e72-4434-9270-577c4df51cd3",
   "metadata": {},
   "outputs": [
    {
     "name": "stdout",
     "output_type": "stream",
     "text": [
      "6.2\n"
     ]
    }
   ],
   "source": [
    "mse = np.mean((data-true_values) ** 2)\n",
    "print(mse)"
   ]
  },
  {
   "cell_type": "code",
   "execution_count": 7,
   "id": "82daf102-dcd6-4f18-af36-8b24daca988e",
   "metadata": {},
   "outputs": [
    {
     "name": "stdout",
     "output_type": "stream",
     "text": [
      "2.4899799195977463\n"
     ]
    }
   ],
   "source": [
    "rmse = np.sqrt(mse)\n",
    "print(rmse)"
   ]
  }
 ],
 "metadata": {
  "kernelspec": {
   "display_name": "base",
   "language": "python",
   "name": "python3"
  },
  "language_info": {
   "codemirror_mode": {
    "name": "ipython",
    "version": 3
   },
   "file_extension": ".py",
   "mimetype": "text/x-python",
   "name": "python",
   "nbconvert_exporter": "python",
   "pygments_lexer": "ipython3",
   "version": "3.12.7"
  }
 },
 "nbformat": 4,
 "nbformat_minor": 5
}
