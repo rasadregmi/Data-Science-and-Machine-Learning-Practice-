{
 "cells": [
  {
   "cell_type": "code",
   "execution_count": 2,
   "id": "65ad77ed-afd4-414e-8af6-938dcd9a5b05",
   "metadata": {},
   "outputs": [
    {
     "name": "stdout",
     "output_type": "stream",
     "text": [
      "      Name  Age   GPA\n",
      "0     Tony   55  3.00\n",
      "1    Peter   23  3.70\n",
      "2    Bruce   41  3.89\n",
      "3  Scarlet   35  3.35\n"
     ]
    }
   ],
   "source": [
    "import pandas as pd\n",
    "import numpy as np\n",
    "\n",
    "names = np.array([\"Tony\", \"Peter\", \"Bruce\", \"Scarlet\"])\n",
    "ages = np.array([55, 23, 41, 35])\n",
    "gpas = np.array([3, 3.7, 3.89, 3.35])\n",
    "\n",
    "data = {\n",
    "    \"Name\": names,\n",
    "    \"Age\": ages,\n",
    "    \"GPA\": gpas\n",
    "}\n",
    "\n",
    "df = pd.DataFrame(data)\n",
    "\n",
    "print(df)\n"
   ]
  }
 ],
 "metadata": {
  "kernelspec": {
   "display_name": "base",
   "language": "python",
   "name": "python3"
  },
  "language_info": {
   "codemirror_mode": {
    "name": "ipython",
    "version": 3
   },
   "file_extension": ".py",
   "mimetype": "text/x-python",
   "name": "python",
   "nbconvert_exporter": "python",
   "pygments_lexer": "ipython3",
   "version": "3.12.7"
  }
 },
 "nbformat": 4,
 "nbformat_minor": 5
}
