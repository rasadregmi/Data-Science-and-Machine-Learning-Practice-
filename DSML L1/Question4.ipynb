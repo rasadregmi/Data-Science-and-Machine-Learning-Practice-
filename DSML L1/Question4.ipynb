{
 "cells": [
  {
   "cell_type": "code",
   "execution_count": 9,
   "id": "65ad77ed-afd4-414e-8af6-938dcd9a5b05",
   "metadata": {},
   "outputs": [
    {
     "name": "stdout",
     "output_type": "stream",
     "text": [
      "Indices where elements are greater than 25: (array([2, 3, 4], dtype=int64),)\n",
      "Elements greater than 25: [30 40 50]\n"
     ]
    }
   ],
   "source": [
    "import numpy as np\n",
    "\n",
    "array = np.array([10, 20, 30, 40, 50])\n",
    "\n",
    "indices = np.where(array > 25)\n",
    "print(\"Indices where elements are greater than 25:\", indices)\n",
    "\n",
    "elements = array[indices]\n",
    "print(\"Elements greater than 25:\", elements)\n"
   ]
  },
  {
   "cell_type": "code",
   "execution_count": 10,
   "id": "98945122-07a3-41d0-8ea8-275a18191123",
   "metadata": {},
   "outputs": [
    {
     "name": "stdout",
     "output_type": "stream",
     "text": [
      "Index to insert 23: 2\n",
      "New array after insertion: [10 20 23 30 40 50]\n"
     ]
    }
   ],
   "source": [
    "import numpy as np\n",
    "\n",
    "sorted_array = np.array([10, 20, 30, 40, 50])\n",
    "\n",
    "index = np.searchsorted(sorted_array, 23)\n",
    "print(\"Index to insert 23:\", index)\n",
    "\n",
    "new_array = np.insert(sorted_array, index, 23)\n",
    "print(\"New array after insertion:\", new_array)\n"
   ]
  }
 ],
 "metadata": {
  "kernelspec": {
   "display_name": "base",
   "language": "python",
   "name": "python3"
  },
  "language_info": {
   "codemirror_mode": {
    "name": "ipython",
    "version": 3
   },
   "file_extension": ".py",
   "mimetype": "text/x-python",
   "name": "python",
   "nbconvert_exporter": "python",
   "pygments_lexer": "ipython3",
   "version": "3.12.7"
  }
 },
 "nbformat": 4,
 "nbformat_minor": 5
}
