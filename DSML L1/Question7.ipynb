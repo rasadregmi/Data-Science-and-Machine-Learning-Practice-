{
 "cells": [
  {
   "cell_type": "code",
   "execution_count": 5,
   "id": "65ad77ed-afd4-414e-8af6-938dcd9a5b05",
   "metadata": {},
   "outputs": [],
   "source": [
    "import pandas as pd\n",
    "df = pd.read_csv('new.csv')\n"
   ]
  },
  {
   "cell_type": "code",
   "execution_count": 6,
   "id": "406e2b11",
   "metadata": {},
   "outputs": [
    {
     "name": "stdout",
     "output_type": "stream",
     "text": [
      "  Series_reference   Period  Data_value Suppressed STATUS    UNITS  Magnitude  \\\n",
      "0      MFGQ.SFA1CA  1992.12     2493.37        NaN      F  Dollars          6   \n",
      "1      MFGQ.SFA1CA  1993.03     3209.20        NaN      F  Dollars          6   \n",
      "2      MFGQ.SFA1CA  1993.06     2780.17        NaN      F  Dollars          6   \n",
      "3      MFGQ.SFA1CA  1993.09     1933.01        NaN      F  Dollars          6   \n",
      "4      MFGQ.SFA1CA  1993.12     2692.92        NaN      F  Dollars          6   \n",
      "\n",
      "                                 Subject  \\\n",
      "0  Manufacturing Survey (ANZSIC06) - MFG   \n",
      "1  Manufacturing Survey (ANZSIC06) - MFG   \n",
      "2  Manufacturing Survey (ANZSIC06) - MFG   \n",
      "3  Manufacturing Survey (ANZSIC06) - MFG   \n",
      "4  Manufacturing Survey (ANZSIC06) - MFG   \n",
      "\n",
      "                                               Group  \\\n",
      "0  Industry by variable - Subannual Financial Col...   \n",
      "1  Industry by variable - Subannual Financial Col...   \n",
      "2  Industry by variable - Subannual Financial Col...   \n",
      "3  Industry by variable - Subannual Financial Col...   \n",
      "4  Industry by variable - Subannual Financial Col...   \n",
      "\n",
      "                         Series_title_1            Series_title_2  \\\n",
      "0  Meat and dairy product manufacturing  Sales (operating income)   \n",
      "1  Meat and dairy product manufacturing  Sales (operating income)   \n",
      "2  Meat and dairy product manufacturing  Sales (operating income)   \n",
      "3  Meat and dairy product manufacturing  Sales (operating income)   \n",
      "4  Meat and dairy product manufacturing  Sales (operating income)   \n",
      "\n",
      "   Series_title_3 Series_title_4 Series_title_5  \n",
      "0  Current prices     Unadjusted            NaN  \n",
      "1  Current prices     Unadjusted            NaN  \n",
      "2  Current prices     Unadjusted            NaN  \n",
      "3  Current prices     Unadjusted            NaN  \n",
      "4  Current prices     Unadjusted            NaN  \n"
     ]
    }
   ],
   "source": [
    "print(df.head())"
   ]
  },
  {
   "cell_type": "code",
   "execution_count": 7,
   "id": "5c4b3946-ccbd-464e-9235-9e8a3d35f5d5",
   "metadata": {},
   "outputs": [
    {
     "name": "stdout",
     "output_type": "stream",
     "text": [
      "      Series_reference   Period  Data_value Suppressed STATUS    UNITS  \\\n",
      "29344      MFGQ.SFZ5KA  2023.06    9023.253        NaN      F  Dollars   \n",
      "29345      MFGQ.SFZ5KA  2023.09    8922.748        NaN      F  Dollars   \n",
      "29346      MFGQ.SFZ5KA  2023.12    9953.711        NaN      R  Dollars   \n",
      "29347      MFGQ.SFZ5KA  2024.03   10305.656        NaN      R  Dollars   \n",
      "29348      MFGQ.SFZ5KA  2024.06    8873.544        NaN      F  Dollars   \n",
      "\n",
      "       Magnitude                                Subject  \\\n",
      "29344          6  Manufacturing Survey (ANZSIC06) - MFG   \n",
      "29345          6  Manufacturing Survey (ANZSIC06) - MFG   \n",
      "29346          6  Manufacturing Survey (ANZSIC06) - MFG   \n",
      "29347          6  Manufacturing Survey (ANZSIC06) - MFG   \n",
      "29348          6  Manufacturing Survey (ANZSIC06) - MFG   \n",
      "\n",
      "                                                   Group     Series_title_1  \\\n",
      "29344  Industry by variable - Subannual Financial Col...  All manufacturing   \n",
      "29345  Industry by variable - Subannual Financial Col...  All manufacturing   \n",
      "29346  Industry by variable - Subannual Financial Col...  All manufacturing   \n",
      "29347  Industry by variable - Subannual Financial Col...  All manufacturing   \n",
      "29348  Industry by variable - Subannual Financial Col...  All manufacturing   \n",
      "\n",
      "                                          Series_title_2  \\\n",
      "29344  Stocks of finished goods, trading goods and wo...   \n",
      "29345  Stocks of finished goods, trading goods and wo...   \n",
      "29346  Stocks of finished goods, trading goods and wo...   \n",
      "29347  Stocks of finished goods, trading goods and wo...   \n",
      "29348  Stocks of finished goods, trading goods and wo...   \n",
      "\n",
      "                                   Series_title_3 Series_title_4  \\\n",
      "29344  Deflated, at September 2010 quarter prices     Unadjusted   \n",
      "29345  Deflated, at September 2010 quarter prices     Unadjusted   \n",
      "29346  Deflated, at September 2010 quarter prices     Unadjusted   \n",
      "29347  Deflated, at September 2010 quarter prices     Unadjusted   \n",
      "29348  Deflated, at September 2010 quarter prices     Unadjusted   \n",
      "\n",
      "      Series_title_5  \n",
      "29344            NaN  \n",
      "29345            NaN  \n",
      "29346            NaN  \n",
      "29347            NaN  \n",
      "29348            NaN  \n"
     ]
    }
   ],
   "source": [
    "print(df.tail())"
   ]
  },
  {
   "cell_type": "code",
   "execution_count": 8,
   "id": "18df3e80-a8df-450c-9cab-cb6e94f95fb5",
   "metadata": {},
   "outputs": [
    {
     "data": {
      "text/html": [
       "<div>\n",
       "<style scoped>\n",
       "    .dataframe tbody tr th:only-of-type {\n",
       "        vertical-align: middle;\n",
       "    }\n",
       "\n",
       "    .dataframe tbody tr th {\n",
       "        vertical-align: top;\n",
       "    }\n",
       "\n",
       "    .dataframe thead th {\n",
       "        text-align: right;\n",
       "    }\n",
       "</style>\n",
       "<table border=\"1\" class=\"dataframe\">\n",
       "  <thead>\n",
       "    <tr style=\"text-align: right;\">\n",
       "      <th></th>\n",
       "      <th>Period</th>\n",
       "      <th>Data_value</th>\n",
       "      <th>Magnitude</th>\n",
       "    </tr>\n",
       "  </thead>\n",
       "  <tbody>\n",
       "    <tr>\n",
       "      <th>count</th>\n",
       "      <td>29349.000000</td>\n",
       "      <td>27520.000000</td>\n",
       "      <td>29349.000000</td>\n",
       "    </tr>\n",
       "    <tr>\n",
       "      <th>mean</th>\n",
       "      <td>2008.585762</td>\n",
       "      <td>2911.905143</td>\n",
       "      <td>5.709292</td>\n",
       "    </tr>\n",
       "    <tr>\n",
       "      <th>std</th>\n",
       "      <td>8.961792</td>\n",
       "      <td>5157.204527</td>\n",
       "      <td>1.288330</td>\n",
       "    </tr>\n",
       "    <tr>\n",
       "      <th>min</th>\n",
       "      <td>1992.120000</td>\n",
       "      <td>-26.000000</td>\n",
       "      <td>0.000000</td>\n",
       "    </tr>\n",
       "    <tr>\n",
       "      <th>25%</th>\n",
       "      <td>2001.060000</td>\n",
       "      <td>381.108000</td>\n",
       "      <td>6.000000</td>\n",
       "    </tr>\n",
       "    <tr>\n",
       "      <th>50%</th>\n",
       "      <td>2009.030000</td>\n",
       "      <td>939.532000</td>\n",
       "      <td>6.000000</td>\n",
       "    </tr>\n",
       "    <tr>\n",
       "      <th>75%</th>\n",
       "      <td>2016.120000</td>\n",
       "      <td>2167.149750</td>\n",
       "      <td>6.000000</td>\n",
       "    </tr>\n",
       "    <tr>\n",
       "      <th>max</th>\n",
       "      <td>2024.060000</td>\n",
       "      <td>35749.295000</td>\n",
       "      <td>6.000000</td>\n",
       "    </tr>\n",
       "  </tbody>\n",
       "</table>\n",
       "</div>"
      ],
      "text/plain": [
       "             Period    Data_value     Magnitude\n",
       "count  29349.000000  27520.000000  29349.000000\n",
       "mean    2008.585762   2911.905143      5.709292\n",
       "std        8.961792   5157.204527      1.288330\n",
       "min     1992.120000    -26.000000      0.000000\n",
       "25%     2001.060000    381.108000      6.000000\n",
       "50%     2009.030000    939.532000      6.000000\n",
       "75%     2016.120000   2167.149750      6.000000\n",
       "max     2024.060000  35749.295000      6.000000"
      ]
     },
     "execution_count": 8,
     "metadata": {},
     "output_type": "execute_result"
    }
   ],
   "source": [
    "df.describe()"
   ]
  },
  {
   "cell_type": "code",
   "execution_count": 9,
   "id": "0c135512-47c5-42a7-a1b1-1ff4158e5856",
   "metadata": {},
   "outputs": [
    {
     "name": "stdout",
     "output_type": "stream",
     "text": [
      "<class 'pandas.core.frame.DataFrame'>\n",
      "RangeIndex: 29349 entries, 0 to 29348\n",
      "Data columns (total 14 columns):\n",
      " #   Column            Non-Null Count  Dtype  \n",
      "---  ------            --------------  -----  \n",
      " 0   Series_reference  29349 non-null  object \n",
      " 1   Period            29349 non-null  float64\n",
      " 2   Data_value        27520 non-null  float64\n",
      " 3   Suppressed        2 non-null      object \n",
      " 4   STATUS            29349 non-null  object \n",
      " 5   UNITS             29349 non-null  object \n",
      " 6   Magnitude         29349 non-null  int64  \n",
      " 7   Subject           29349 non-null  object \n",
      " 8   Group             29349 non-null  object \n",
      " 9   Series_title_1    29349 non-null  object \n",
      " 10  Series_title_2    29349 non-null  object \n",
      " 11  Series_title_3    29349 non-null  object \n",
      " 12  Series_title_4    29349 non-null  object \n",
      " 13  Series_title_5    1422 non-null   object \n",
      "dtypes: float64(2), int64(1), object(11)\n",
      "memory usage: 3.1+ MB\n"
     ]
    }
   ],
   "source": [
    "df.info()"
   ]
  },
  {
   "cell_type": "code",
   "execution_count": null,
   "id": "11aa1089-0831-4d7c-ae42-04e4f1737ff3",
   "metadata": {},
   "outputs": [],
   "source": []
  }
 ],
 "metadata": {
  "kernelspec": {
   "display_name": "base",
   "language": "python",
   "name": "python3"
  },
  "language_info": {
   "codemirror_mode": {
    "name": "ipython",
    "version": 3
   },
   "file_extension": ".py",
   "mimetype": "text/x-python",
   "name": "python",
   "nbconvert_exporter": "python",
   "pygments_lexer": "ipython3",
   "version": "3.12.7"
  }
 },
 "nbformat": 4,
 "nbformat_minor": 5
}
